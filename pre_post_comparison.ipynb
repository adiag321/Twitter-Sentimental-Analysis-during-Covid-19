{
  "nbformat": 4,
  "nbformat_minor": 0,
  "metadata": {
    "colab": {
      "name": "pre_post_comparison.ipynb",
      "provenance": []
    },
    "kernelspec": {
      "name": "python3",
      "display_name": "Python 3"
    },
    "language_info": {
      "name": "python"
    }
  },
  "cells": [
    {
      "cell_type": "code",
      "metadata": {
        "colab": {
          "resources": {
            "http://localhost:8080/nbextensions/google.colab/files.js": {
              "data": "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",
              "ok": true,
              "headers": [
                [
                  "content-type",
                  "application/javascript"
                ]
              ],
              "status": 200,
              "status_text": ""
            }
          },
          "base_uri": "https://localhost:8080/",
          "height": 109
        },
        "id": "IkRgxmKzdbtd",
        "outputId": "ecf12b13-a625-464a-b509-0598dce36cb9"
      },
      "source": [
        "from google.colab import files\n",
        "files.upload()"
      ],
      "execution_count": null,
      "outputs": [
        {
          "output_type": "display_data",
          "data": {
            "text/html": [
              "\n",
              "     <input type=\"file\" id=\"files-9ddf218e-d59f-453b-863b-5ed623304e4e\" name=\"files[]\" multiple disabled\n",
              "        style=\"border:none\" />\n",
              "     <output id=\"result-9ddf218e-d59f-453b-863b-5ed623304e4e\">\n",
              "      Upload widget is only available when the cell has been executed in the\n",
              "      current browser session. Please rerun this cell to enable.\n",
              "      </output>\n",
              "      <script src=\"/nbextensions/google.colab/files.js\"></script> "
            ],
            "text/plain": [
              "<IPython.core.display.HTML object>"
            ]
          },
          "metadata": {
            "tags": []
          }
        },
        {
          "output_type": "stream",
          "text": [
            "Saving predicted_post_covid.csv to predicted_post_covid.csv\n"
          ],
          "name": "stdout"
        },
        {
          "output_type": "execute_result",
          "data": {
            "text/plain": [
              "{'predicted_post_covid.csv': b',text,label\\n0,text,2\\n1,\"b\"\"@Reuters Let\\'s hope fares better Hagler Hank Aaron did.\",1\\n2,\"b\"\"I hope Australia starts producing vaccine supplies donate country\\'s worth PNG cousins\\\\xe2\\\\x80\\\\xa6\",2\\n3,b\\'Can talk reoccurring damn near constant anxiety fear contracting Covid-19? This fear is\\\\xe2\\\\x80\\\\xa6,2\\n4,\"b\"\"Experts discussed COVID-19 pandemic\\'s impact vaccine equity Chicago\\'s Black, Hispanic, Native American comm\\\\xe2\\\\x80\\\\xa6\",2\\n5,\"b\\'My Covid-19 vaccination experience. I hope encourages everyone get vaccinated called so, especiall\\\\xe2\\\\x80\\\\xa6\",2\\n6,b\\'Romania pauses use AstraZeneca COVID-19 vaccine batch,2\\n7,\"b\"\"@FerrelAmado @TimJDillon Amado Hispanic texan really never used mask listen politics ! XD\\\\xe2\\\\x80\\\\xa6\",2\\n8,b\\'Injections hope: B.C. health workers share stories first months vaccine rollout #kamloops phys\\\\xe2\\\\x80\\\\xa6,2\\n9,b\\'A bucket list hike would @kalalautrail \\\\xe2\\\\x9b\\\\xb0\\\\xf0\\\\x9f\\\\x8c\\\\xb4\\\\xf0\\\\x9f\\\\x8c\\\\x8a \\\\xf0\\\\x9f\\\\xa5\\\\xbe \\\\nWith vaccine rollout Covid cases hopefully control\\\\xe2\\\\x80\\\\xa6,2\\n10,b\\'Fauci hopes Trump push supporters get COVID-19 vaccine,2\\n11,\"b\"\"Our Chicago: COVID-19 pandemic\\'s impact, vaccine inequity Black, Hispanic, Native American communities\",2\\n12,\"b\"\"The many generic news stories passing Marvin Hagler (may rest peace) menton cause death\\\\xe2\\\\x80\\\\xa6\",2\\n13,b\\'hope covid vaccine makes piss pants\\',2\\n14,\"b\\'@IshatReza Yes, @erinotoole &amp; @CPC_HQ care nothing Canadians would happy support provided by\\\\xe2\\\\x80\\\\xa6\",1\\n15,\"b\\'While enjoying glass wine, listening Pink Floyd, Dark side moon I read news report lon\\\\xe2\\\\x80\\\\xa6\",2\\n16,\"b\"\"Im sick... I already got COVID test came negative anxiety get memo. Fuck shit!\\\\xe2\\\\x80\\\\xa6\",2\\n17,\"b\"\"@PhillyMayor Great I\\'m happy everyone. How starting NE Philly. Their one place inside NE Ph\\\\xe2\\\\x80\\\\xa6\",2\\n18,b\\'He said hopes don\\\\xe2\\\\x80\\\\x99t get COVID vaccine won\\\\xe2\\\\x80\\\\x99t miss us die. Absolutely normal stuff here.\\',2\\n19,b\\'Democrats wrong about:\\\\n\\\\n- Cuomo great Covid leader\\\\n- Covid vaccine within 1 year\\\\n- peace treaties\\\\xe2\\\\x80\\\\xa6,2\\n20,b\\'#vaccine hope also medicine could cure covid-19 vaccines made isn\\\\xe2\\\\x80\\\\x99t enough.\\',2\\n21,b\\'Grateful optimistic outlook accelerated vaccine distribution provides us all! For info eligibility\\\\xe2\\\\x80\\\\xa6,2\\n22,\"b\\'Marvin Hagler \"\"fighting effects vaccine\"\"\\\\n\\\\nVery sadly didn\\\\\\'t\",2\\n23,\"b\\'@Law09804159 @Wanda2116 @NBCNews (13) Any significant vaccine development. Second, sadly HIV stigma sh\\\\xe2\\\\x80\\\\xa6\",2\\n24,\"b\\'[Blog] New blog post; \"\"Why Is Japan\\\\xe2\\\\x80\\\\x99s COVID-19 Vaccine Rollout So Slow?\"\"\\\\nI hope Japan everything acceler\\\\xe2\\\\x80\\\\xa6\",2\\n25,b\\'@Zac_Petkanas They never happy. Biden give America vaccine covid AND free money. The great president!!\\',2\\n26,\"b\\'I want you\\\\xe2\\\\x80\\\\x99re welcome everyone. I\\\\xe2\\\\x80\\\\x99m happy I could help develop COVID vaccine. Oh, I abs\\\\xe2\\\\x80\\\\xa6\",2\\n27,\"b\"\"@SuperLBJHater @cbns007 @neighbours_wifi If actually want learn, I\\'d glad teach know\\\\xe2\\\\x80\\\\xa6\",1\\n28,\"b\\'What exaggerated Covid threat. There panic &amp; fear, test &amp; trace, lockdowns, vac\\\\xe2\\\\x80\\\\xa6\",2\\n29,\"b\\'@LucasArcady @Coronavirusgoo1 @EssexPR I 2 people died Covid, 1 alone hospital.\\\\n\\\\nI one w\\\\xe2\\\\x80\\\\xa6\",2\\n30,b\\'Received covid vaccine today! Its hours later feeling pretty lousy honest. But glad thats done with.\\',2\\n31,b\\'@Normsmusic I\\\\xe2\\\\x80\\\\x99m glad haven\\\\xe2\\\\x80\\\\x99t one long. Had first one ago. They horrible. I hope p\\\\xe2\\\\x80\\\\xa6,2\\n32,b\\'@PaulStanleyLive Very sad news indeed. Would surprise learn injected Covid vaccine no\\\\xe2\\\\x80\\\\xa6,2\\n33,b\\'@LunaLuvgood2020 I\\\\xe2\\\\x80\\\\x99m sorry. I happy I received second vaccine Friday. I don\\\\xe2\\\\x80\\\\x99t remember s\\\\xe2\\\\x80\\\\xa6,2\\n34,\"b\"\"A depressing prospect given vaccine stop catching spreading\",2\\n35,\"b\\'@OrganaMeliflora @AlexWitt My understanding vaccinated, hopefully NOT get COVID. Theref\\\\xe2\\\\x80\\\\xa6\",2\\n36,b\\'I unaware side-effect concerned I felt uncomfortable arm. \\\\n\\\\nDon\\\\xe2\\\\x80\\\\x99t Be Alarmed T\\\\xe2\\\\x80\\\\xa6,2\\n37,b\\'@RedPavlova diagnosis schizophrenia\\\\ndiagnosis bipolar disorder\\\\nany mental health illness causes severe f\\\\xe2\\\\x80\\\\xa6,2\\n38,\"b\\'While I BIG cheerleader Joe Biden getting much vaccine American arms, I scared death st\\\\xe2\\\\x80\\\\xa6\",2\\n39,b\\'Does anyone classed severe mental illness apart bipolar schizophrenia qualify covid vaccine? \\\\n#mentalhealth\\',2\\n40,b\\'Fauci hopes Trump urge supporters get Covid vaccine,2\\n41,\"b\\'Back home call. Got mom, HCW 34 years, get dose 2 COVID vaccine!! She happy lit\\\\xe2\\\\x80\\\\xa6\",2\\n42,b\\'@RepJimmyPanetta Mr Panetta - I hope help ... homebound folks get Covid-19 vaccine \\\\xf0\\\\x9f\\\\x92\\\\x89? Homebound ailments ...\\',2\\n43,\"b\\'I don\\\\xe2\\\\x80\\\\x99t I want cry, laugh, feel immense relief. So I\\\\xe2\\\\x80\\\\x99m gonna three. \\\\n\\\\nGot second Covid\\\\xe2\\\\x80\\\\xa6\",2\\n44,b\\'My parents got covid vaccine! So happy \\\\xf0\\\\x9f\\\\xa5\\\\xba\\\\xf0\\\\x9f\\\\xa5\\\\xb0,2\\n45,\"b\"\"Daily new COVID-19 vaccination doses administered, Data @OurWorldInData . I\\'m happy see many people g\\\\xe2\\\\x80\\\\xa6\",2\\n46,b\\'The vaccine appeared record best hope get locked-down businesses open employees ba\\\\xe2\\\\x80\\\\xa6,2\\n47,\"b\\'Afterall, President Trump initiated vaccine roll-out, Warp Speed\"\".\\\\n\\\\nFauci hopes Trump encou\\\\xe2\\\\x80\\\\xa6\",2\\n48,\"b\\'\\\\xe2\\\\x80\\\\x9cIf people believe powerful, secret forces responsible, isn\\\\xe2\\\\x80\\\\x99t fault things bad for\\\\xe2\\\\x80\\\\xa6\",2\\n49,b\\'CBS News: Americans wait hours hopes scoring leftover vaccine @GoogleNews\\',2\\n50,\"b\"\"I can\\'t tell I feel sick because\\\\n1) The Covid Vaccine\\\\n2) Stress/depression\\\\n3) Brain Injury\\\\n4) fuck it, \\'em\"\"\",2\\n51,\"b\\'@colingeorgerice I hope they\\\\xe2\\\\x80\\\\x99ve jabs, idiots think COVID-19 myth va\\\\xe2\\\\x80\\\\xa6\",2\\n52,\"b\\'&amp; ur female , aware , covid vaccine uncomfortable things period :/\\'\",2\\n53,b\\'@AquilaImperii Haha good. I\\\\xe2\\\\x80\\\\x99ll meet y\\\\xe2\\\\x80\\\\x99all get put Mossad-run concentration camp refuse Covid \\\\xe2\\\\x80\\\\x98vaccine\\\\xe2\\\\x80\\\\x99\\',1\\n54,\"b\\'Pro-vax culture already getting cringey, I hope gets worse. @slate\\'\",2\\n55,\"b\"\"@FrankLuntz I hope, sincerely, every one people gets COVID. Let\\'s see they\\'re worried abo\\\\xe2\\\\x80\\\\xa6\",2\\n56,b\\'@TheTodayShow wow let\\\\xe2\\\\x80\\\\x99s roll 2 distressed people put doubts minds Australians vacci\\\\xe2\\\\x80\\\\xa6,2\\n57,\"b\"\"@PatJD8 @Stevenphoenix40 They\\'re happy keep us lockdown regardless, even though cases fallen along w\\\\xe2\\\\x80\\\\xa6\",2\\n58,b\\'That good concern. The WHO mandated no-fault vaccine injury compensation mechanism low income c\\\\xe2\\\\x80\\\\xa6,2\\n59,b\\'What smash delusion?\\\\n\\\\n#vaccine #COVID #coronavirus #AstraZeneca,2\\n60,b\\'Dallas County data showed Black Hispanic residents severely underserved vaccine distribution\\\\xe2\\\\x80\\\\xa6,2\\n61,\"b\\'I SO happy relieved news: dad received first Covid vaccine dose, mom booke\\\\xe2\\\\x80\\\\xa6\",2\\n62,b\\'RFK Jr handing misinformation Covid vaccine. And even family isn\\\\xe2\\\\x80\\\\x99t happy it. Why this?\\',1\\n63,b\\'@kellykrout I sorry! I sure hope get one soon! Definitely try upcoming community clinics towards the\\\\xe2\\\\x80\\\\xa6,1\\n64,b\\'@The_Warlock_86 @aubrey_huff Check covid survival rate. \\\\n\\\\nI happy anyone wants get vaccine.\\',1\\n65,\"b\\'I hope I get covid vaccine soon, I cannot aborted babies waste. I\\\\xe2\\\\x80\\\\x99m ready panoramic over\\'\",2\\n66,b\\'Someone unfollowed saying I hope I\\\\xe2\\\\x80\\\\x99m forced covid vaccine lmao\\',2\\n67,\"b\"\"Just got first COVID vaccine shot I\\'m happy done! Cant wait get second one fully vaccinated!!\"\"\",2\\n68,\"b\\'Providing beacon hope one core missions. Our mobile #vaccine clinics administered 1,000\\\\xe2\\\\x80\\\\xa6\",2\\n69,\"b\"\"@saschasegan CT good COVID. I\\'ve happy all. We need vaccine\"\"\",2\\n70,\"b\"\"I hope everyone remembers they\\'re getting COVID-19 (often referred China Virus) Vaccine, if\\\\xe2\\\\x80\\\\xa6\",2\\n71,b\\'Chief Hill speaks hope holds vaccine rollout face devastating effects Covid 1\\\\xe2\\\\x80\\\\xa6,2\\n72,\"b\\'The EU\\\\xe2\\\\x80\\\\x99s fight Covid-19 stuck midwinter, even spring vaccinations spur hope improvement in\\\\xe2\\\\x80\\\\xa6\",2\\n73,\"b\\'You\\\\\\'d laugh shite -\\\\n\\\\nINGREDIENTS per: \\\\nHSE\\\\n\"\"The #AstraZeneca COVID-19 vaccine contain e\\\\xe2\\\\x80\\\\xa6\",2\\n74,b\\'Fauci hopes Trump push supporters get COVID-19,2\\n75,b\\'Fauci hopes Trump urge supporters get Covid vaccine,2\\n76,\"b\\'@Stocks_Gazer @beachfemme @JohnEPottsII1 @snoopdoug44 @Mr_Mike Weird admittedly label suicides, poiso\\\\xe2\\\\x80\\\\xa6\",2\\n77,b\\'Fauci hopes Trump push supporters get COVID-19 vaccine,2\\n78,b\\'Fauci hopes Trump urge supporters get Covid vaccine,2\\n79,b\\'Fauci hopes Trump push supporters get COVID-19 vaccine,2\\n80,\"b\\'We\\\\xe2\\\\x80\\\\x99re long herd immunity, reason optimistic trajectory pandemi\\\\xe2\\\\x80\\\\xa6\",2\\n81,b\\'not getting come anxiety covid vaccine\\',2\\n82,b\\'@PacheduZW @MoHCCZim @nickmangwana Unfortunately u campaigned vaccine without knowing disadvantages int\\\\xe2\\\\x80\\\\xa6,2\\n83,b\\'Eye opening insights \\\\xe2\\\\x81\\\\xa6@TheSCANFndtn\\\\xe2\\\\x81\\\\xa9. More edu &amp; outreach needed help everyone get comfortable. Straight ta\\\\xe2\\\\x80\\\\xa6,2\\n84,b\\'@AuroraBlogspot Educate seams UK well fighting Covid going alone E\\\\xe2\\\\x80\\\\xa6,2\\n85,b\\'@Keir_Starmer Me hubby ad cancel tested positive covid hospital ad isolate I hope\\\\xe2\\\\x80\\\\xa6,2\\n86,\"b\\'@goterider @PreetBharara @sharoncshepard Ahhh, I see, well like I said, I glad getting COVID shot,\\\\xe2\\\\x80\\\\xa6\",1\\n87,b\\'glad see everybody taking Covid vaccine \\\\xf0\\\\x9f\\\\xa4\\\\x9e\\\\xf0\\\\x9f\\\\x8f\\\\xbe cause bitch I would NEVER!!! y\\\\xe2\\\\x80\\\\x99all helping keep protected tho lmao\\',2\\n88,b\\'How much unnecessary thrombosis covid panic reactions leading halting covid vaccine program? A\\\\xe2\\\\x80\\\\xa6,2\\n89,\"b\\'11/n So, changing relationship future fear one pragmatic hope task hand, cont\\\\xe2\\\\x80\\\\xa6\",2\\n90,b\\'\\\\xe2\\\\x80\\\\x9ci feel like old burrito left street really sad... like tortilla soggy\\\\xe2\\\\x80\\\\x9d avery covid vaccine\\',2\\n91,\"b\\'Britons able enjoy summer vaccine rollout drives infections, says Professor Ferguson\",2\\n92,\"b\"\"@KarleeKanz @chris_steller I get it. I zero anxiety getting vaccine, 100 percent anxi\\\\xe2\\\\x80\\\\xa6\",2\\n93,\"b\"\"@CongressmanRaja You also sign notified eligible VA. I able book my\\\\xe2\\\\x80\\\\xa6\",2\\n94,\"b\\'@ginasaur been, espeically damaging COVID people ;w; I hope everyone\\\\xe2\\\\x80\\\\xa6\",2\\n95,\"b\\'Dr. Anthony Fauci, top #US infectious disease expert, says hopes former President Donald Trump urg\\\\xe2\\\\x80\\\\xa6\",2\\n96,b\\'Fauci hopes Trump urge supporters get Covid vaccine,2\\n97,b\\'@cog_roos @VirginiaBuckin1 @stuartpstevens And Covid I\\\\xe2\\\\x80\\\\x99m glad subsidizing vaccine resea\\\\xe2\\\\x80\\\\xa6,1\\n98,\"b\"\"@tomellis17 This sad scary well. If allow fully vaccinated person near covid+ patient,\\\\xe2\\\\x80\\\\xa6\",2\\n99,\"b\\'@Femi_Sorry Thought might enjoy this.. After all, warned attacking Boris UK Covid deaths risky\\\\xe2\\\\x80\\\\xa6\",1\\n100,b\\'I wish gf happy covid 19 vaccine\\',2\\n101,b\\'Good see cooperation Merck Johnson &amp; Johnson! I hope advanced scientific technologies kill\\\\xe2\\\\x80\\\\xa6,2\\n102,b\\'50% Republican Men getting Covid Vaccine. Ok I hope understand might naturally elimi\\\\xe2\\\\x80\\\\xa6,2\\n103,b\\'Looking forward classroom pupils week. Covid anxiety remain it\\\\xe2\\\\x80\\\\x99s tur\\\\xe2\\\\x80\\\\xa6,1\\n104,\"b\\'Fauci hopes Trump urge supporters get Covid vaccine \\\\n\\\\n\"\"How large proportion certain group o\\\\xe2\\\\x80\\\\xa6\",2\\n105,b\\'There could #Election2021 backlash #California Democrat State local political leadership t\\\\xe2\\\\x80\\\\xa6,2\\n106,b\\'Friday: Stimulus check deposit \\\\n\\\\nSunday: First Covid-19 vaccine dose.\\\\n\\\\nI already feel anxiety slowly relaxin\\\\xe2\\\\x80\\\\xa6,2\\n107,\"b\\'\\\\xe2\\\\x80\\\\x9cRetailers #optimistic \\\\xf0\\\\x9f\\\\x98\\\\x8a\\\\xf0\\\\x9f\\\\x98\\\\x8a spring season. This brings warmer weather, love\\\\xe2\\\\x80\\\\xa6\",2\\n108,\"b\\'\\\\xe2\\\\x80\\\\x9cI #optimistic\\\\xf0\\\\x9f\\\\x98\\\\x8a\\\\xf0\\\\x9f\\\\x98\\\\x8a business much better last time\"\"\\\\nCynthia Poston, owner CYNTHIA\\\\xe2\\\\x80\\\\xa6\",2\\n109,b\\'Fauci hopes Trump push supporters get COVID-19 vaccine @YahooNews\\',2\\n110,b\\'Ma spent pandemic working inspire comfort hope music.,2\\n111,b\\'After months terrible insomnia I\\\\xe2\\\\x80\\\\x99ve finally gone 2 nights row without trouble staying asleep waking f\\\\xe2\\\\x80\\\\xa6,2\\n112,b\\'I took Covid-19 J&amp;J vaccine yesterday. I happy report I haven\\\\xe2\\\\x80\\\\x99t turned zombie.,2\\n113,\"b\"\"I excited tomorrow I can\\'t describe it. I\\'ve waiting months this. I hope everyone else g\\\\xe2\\\\x80\\\\xa6\",2\\n114,b\\'@fslsltn @Asad_Umar @ImranKhanPTI @PakPMO v r facing 3rd wave already; it\\\\xe2\\\\x80\\\\x99s high arrange/organise &amp;\\\\xe2\\\\x80\\\\xa6,2\\n115,b\\'#Vaccination one issues focusing disadvantaged doesn\\\\xe2\\\\x80\\\\x99t require appeal moralit\\\\xe2\\\\x80\\\\xa6,2\\n116,\"b\\'@BaileySarian Hey, hopefully soon. I work CVS I told weeks open genera\\\\xe2\\\\x80\\\\xa6\",0\\n117,b\\'Fauci hopes Trump push supporters get COVID-19 vaccine,2\\n118,b\\'Best Mother\\\\xe2\\\\x80\\\\x99s Day gift ever gift vaccine today. So happy. Was worth breaking decent bottle wit\\\\xe2\\\\x80\\\\xa6,2\\n119,\"b\"\"@justine_heaton I fear \\'vaccine\\' Covid. You\\'re alone!\"\"\",2\\n120,b\\'First dose covid-19 vaccine done! Feels surreal honestly. I feel hopeful also scared hopeful. Such weird feeling.\\',2\\n121,b\\'Fauci hopes Trump push supporters get COVID-19 vaccine @YahooNews\\',2\\n122,\"b\\'Is fatigue covid vaccine, come anxiety getting it, anniversary l\\\\xe2\\\\x80\\\\xa6\",2\\n123,b\\'We happy provide members opportunities get COVID-19 vaccine! With limited supply of\\\\xe2\\\\x80\\\\xa6,2\\n124,b\\'How many side effects V@x see coming months.\\\\n\\\\nThe death toll alone stunning!\\\\n\\\\nRadiologi\\\\xe2\\\\x80\\\\xa6,2\\n125,b\\'[falls hopelessly love nurse stabbed arm COVID vaccine]\\',2\\n126,b\\'Fauci hopes Trump push supporters get COVID-19 vaccine,2\\n127,b\\'Fauci hopes Trump push supporters get COVID-19 vaccine,2\\n128,b\\'Fauci hopes Trump push supporters get COVID-19 vaccine,2\\n129,b\\'i hope people anti-covid anti-vaccine get covid isn\\\\xe2\\\\x80\\\\x99t bad enough kill bad eno\\\\xe2\\\\x80\\\\xa6,2\\n130,\"b\"\"@simondolan @British_Airways You people delusional. How \\'safe\\' vaccine? You catch cov\\\\xe2\\\\x80\\\\xa6\",2\\n131,\"b\\'I got Covid vaccine, symptom arm sore day after. Pretty happy I got it, can\\\\xe2\\\\x80\\\\x99t wa\\\\xe2\\\\x80\\\\xa6\",2\\n132,b\\'@WCheesemaker @kilmeade @michaelgwaltz @AmbassadorRice @foxnewsradio Well I agree downplaying threat o\\\\xe2\\\\x80\\\\xa6,2\\n133,b\\'Fauci hopes Trump push supporters get COVID-19 vaccine,2\\n134,b\\'Fauci hopes Trump push supporters get COVID-19 vaccine,2\\n135,b\\'My mom getting first dose covid vaccine coming week. So happy\\',2\\n136,b\\'@CRITHINKCLUB If elderly loved ones technological disadvantage research go\\\\xe2\\\\x80\\\\xa6,2\\n137,b\\'Fauci hopes Trump push supporters get COVID-19 vaccine,2\\n138,b\\'Fauci hopes Trump push supporters get COVID-19 vaccine,2\\n139,\"b\"\"@Disembe Let us hope COVID-19 vaccine millionaires.\"\"\",2\\n140,\"b\\'All leading April- 2nd dose Covid vaccine, ankle healed, hopefully promoted, changes g\\\\xe2\\\\x80\\\\xa6\",2\\n141,\"b\\'@BettlachOpines I planned shoot photos game today sad I missed this, I found CO\\\\xe2\\\\x80\\\\xa6\",2\\n142,\"b\"\"@terminallytang1 @campbellclaret @pritipatel I\\'m happy. We govern laws specific UK a\\\\xe2\\\\x80\\\\xa6\",2\\n143,\"b\\'@M_J_Fishing @Fx3Inc Memorial Day \\\\xf0\\\\x9f\\\\x99\\\\x8f blessings Michael \\\\xf0\\\\x9f\\\\x91\\\\x8d I got second Covid vaccine yesterday VA ,\\\\xe2\\\\x80\\\\xa6\",1\\n144,b\\'@TheSundayMirror They found vaccine Covid they\\\\xe2\\\\x80\\\\x99ll never one centrist delusions mythical bounces.\\',2\\n145,b\\'Fauci hopes Trump push supporters get COVID-19 vaccine,2\\n146,b\\'@RheaBoydMD @AlexWitt Such sad heartbreaking point made \\\\xf0\\\\x9f\\\\x98\\\\x94\\\\nSome states lower percentage\\\\xe2\\\\x80\\\\xa6,2\\n147,b\\'let see hope Ish pls \\\\nI asked sweet letter ; send \\\\nto clear Covid-19 choose healt\\\\xe2\\\\x80\\\\xa6,0\\n148,\"b\\'@splashleys Grandma headache Mija, away soon. I glad got vaccine, friend just\\\\xe2\\\\x80\\\\xa6\",2\\n149,b\\'@jaevionn The price alone gives doubt vaccine.....maybe flu shots. $8000 fi covid test $4000 fi v\\\\xe2\\\\x80\\\\xa6,2\\n150,b\\'This incredible! People like Phyllis give hope! Ellen @TheEllenShow\\\\nI share you! \\\\n\\\\nOldest l\\\\xe2\\\\x80\\\\xa6,2\\n151,b\\'CBS News: Americans wait hours hopes scoring leftover vaccine dose. #CovidVaccine going everyw\\\\xe2\\\\x80\\\\xa6,2\\n152,b\\'@vanknapp Thanks Dave! Currently trying stay public places I COVID vaccine(hopefully j\\\\xe2\\\\x80\\\\xa6,2\\n153,\"b\\'#Canada #Vancouver #Canadians Through deaths #lockdownextensions, raised #suicides, #domesticviolence, #sexualabuse\\\\xe2\\\\x80\\\\xa6\",2\\n154,\"b\"\"RFK Jr. part every junk-science crusade lifetime. He\\'s openly fantasized legal punishment f\\\\xe2\\\\x80\\\\xa6\",2\\n155,\"b\"\"I surprised happening depresses people callous\",2\\n156,\"b\\'How many sad stories take? Wake world!\\\\n\\\\n\"\"Boxing mourning Saturday night th\\\\xe2\\\\x80\\\\xa6\",2\\n157,b\\'My grandparents finally got first dose covid vaccine. I relieved happy!\\',2\\n158,\"b\\'As celebrate availability Covid vaccine country (very important milestone), sad mas\\\\xe2\\\\x80\\\\xa6\",2\\n159,b\\'I hope $TSOI show consistent even better results Phase 3 trial 400 patients release new dat\\\\xe2\\\\x80\\\\xa6,2\\n160,\"b\"\"@MeredithTNovak @naomirwolf @aier Lol I\\'m glad somebody thinks sheep tell opposite. In fa\\\\xe2\\\\x80\\\\xa6\",2\\n161,b\\'@leftcoastbabe @reesetheone1 I really hope see J &amp; J vaccine given college kids soon. It would a\\\\xe2\\\\x80\\\\xa6,2\\n162,\"b\\'The Novavax vaccine small portion protein Spike, best hope safe\\\\xe2\\\\x80\\\\xa6\",2\\n163,\"b\"\"@Kizze19 @Beatjuice3 @Flying_Foodie @Omegaman1969 @notdred @RexChapman I\\'m glad feeling better got vacc\\\\xe2\\\\x80\\\\xa6\",2\\n164,\"b\\'Dr. Anthony Fauci, said hopes former President #DonaldTrump urge supporters get #COVID19 vaccine\\\\xe2\\\\x80\\\\xa6\",2\\n165,b\\'Both grandparents getting covid vaccine next week. Hearing gave hope situation get better sooner later \\\\xe2\\\\x9d\\\\xa4\\',2\\n166,\"b\\'The EU\\\\xe2\\\\x80\\\\x99s fight Covid-19 stuck midwinter, even spring vaccinations spur hope improvement in\\\\xe2\\\\x80\\\\xa6\",2\\n167,\"b\"\"My dad got covid vaccine, I\\'m happy \\\\xf0\\\\x9f\\\\xa4\\\\xa7\"\"\",2\\n168,b\\'Ugly cry weeping joy car watching parents get line second vaccine shot. Maybe nightmare w\\\\xe2\\\\x80\\\\xa6,2\\n169,\"b\"\"I\\'m actually happy I vaccinated yet.\\\\n\\\\nIreland medical chief calls use AstraZeneca Covid vaccine\\\\xe2\\\\x80\\\\xa6\",2\\n170,b\\'@NastyWoman532 @atrupar Idk... could rational anxiety new vaccine. Or people think got COVID alr\\\\xe2\\\\x80\\\\xa6,2\\n171,b\\'@aslavitt46 Nothing lifts covid depression better getting vaccine! My husband I fully vaccinat\\\\xe2\\\\x80\\\\xa6,2\\n172,\"b\"\"Mpozzi Covid-19 \\'medicine\\' Museveni launch Mulago months back?\\\\n\\\\nHe hope Uganda Covid-19 vaccine.\"\"\",2\\n173,\"b\\'Doing happy dance..... Covid vaccine appointment 26 March , hair appointment 13 April giving blood Tuesday\\'\",2\\n174,b\\'@jrhodeswinsor @mattletiss7 @British_Airways I hope true however show results vacci\\\\xe2\\\\x80\\\\xa6,2\\n175,b\\'VACCINE UPDATE: absolutely side effects besides sore arm maybe insomnia caused sleep 11\\\\xe2\\\\x80\\\\xa6,2\\n176,\"b\\'Pro-vax culture already getting cringey, I hope gets worse.\",2\\n177,\"b\"\"I really hope dum-dums get FOMO. \\\\n\\\\nFauci: \\'disturbing\\' Trump voters g\\\\xe2\\\\x80\\\\xa6\",2\\n178,b\\'@FrecklesJules I don\\\\xe2\\\\x80\\\\x99t story hopefully ok....so many strong feelings regards covid/v\\\\xe2\\\\x80\\\\xa6,2\\n179,\"b\\'Opinion | @TheRevAl: What comes unequal access, reluctance alone, standing of\\\\xe2\\\\x80\\\\xa6\",2\\n180,\"b\"\"Don\\'t worry, happy: state mind could affect #Covid jab\\\\n#vaccine #mentalhealth\",2\\n181,\"b\\'The EU\\\\xe2\\\\x80\\\\x99s fight Covid-19 stuck midwinter, even spring vaccinations spur hope improvement in\\\\xe2\\\\x80\\\\xa6\",2\\n182,b\\'If give people back freedoms wont able coerce vaccine! The sad thing the\\\\xe2\\\\x80\\\\xa6,2\\n183,\"b\"\"This makes sad...and angry....Researchers Report Deaths Covid Vaccine Israel\\'s Elderly 40 Times\\\\xe2\\\\x80\\\\xa6\",2\\n184,b\\'I\\\\xe2\\\\x80\\\\x99m happy @ExplosionLimit got COVID vaccine today! I really hope I don\\\\xe2\\\\x80\\\\x99t wait long able get one too\\',2\\n185,\"b\\'So happy parents! They got first doses COVID-19 vaccine today, vaccine rollout begins wi\\\\xe2\\\\x80\\\\xa6\",2\\n186,\"b\\'I hope Fauci isn\\\\xe2\\\\x80\\\\x99t holding breath! Dr. Fauci said, I hope tRump push supporters get COVID-19 va\\\\xe2\\\\x80\\\\xa6\",2\\n187,b\\'Fauci hopes Trump push supporters get COVID-19 vaccine.,2\\n188,\"b\"\"DC Rawalpindi seen giving comfort Senior citizens bringing awareness related vaccine it\\'s\\\\xe2\\\\x80\\\\xa6\",2\\n189,b\\'Fauci hopes Trump push supporters get COVID-19 vaccine,2\\n190,\"b\\'@doctorclaros I really hope so!! I read good deal research vaccine seems, far, safe\\\\xe2\\\\x80\\\\xa6\",1\\n191,\"b\\'@GOPChairwoman True Ronna, \"\"I\"\" TEAM USA! \\\\n\\\\nLet\\\\\\'s sincerely hope everyone remembers many, many scientists,\\\\xe2\\\\x80\\\\xa6\",2\\n192,b\\'@Tessadunlop As Mum Grandma right Bloody Covid-19! - January 2020 last I gave hugs\\\\xe2\\\\x80\\\\xa6,1\\n193,b\\'So happy hear mom finally got first COVID vaccine dose! She gets next one three weeks.\\',2\\n194,b\\'I Covid shit peace calm:\\\\n\\\\n\\\\xe2\\\\x9c\\\\x85Lockdowns\\\\n\\\\xe2\\\\x9c\\\\x85Travel bans\\\\n\\\\xe2\\\\x9c\\\\x85Wearing masks\\\\n\\\\xe2\\\\x9c\\\\x85No movies\\\\n\\\\xe2\\\\x9c\\\\x85Waitin\\\\xe2\\\\x80\\\\xa6,2\\n195,b\\'I pleasant interaction stranger covid vaccine line today honestly made hopeful future \\\\xe2\\\\x9d\\\\xa4\\\\xef\\\\xb8\\\\x8f\\',2\\n196,b\\'Hello \\\\xf0\\\\x9f\\\\x91\\\\x8b patients public large. I hope everyone COVID 19 \\\\xe2\\\\x80\\\\x98vaccine plan\\\\xe2\\\\x80\\\\x99 vaccinated. Just wait a\\\\xe2\\\\x80\\\\xa6,2\\n197,\"b\"\"@theworstdev That great Nii-saan\\\\n\\\\nI hope get vaccinated sometime, I\\'ve read CNN vaccine\\\\xe2\\\\x80\\\\xa6\",1\\n198,b\\'@C1Censored No Clue doing.... sad...\\\\n Changes DNA.... ! \\\\nAnd passed Bloo\\\\xe2\\\\x80\\\\xa6,2\\n199,\"b\\'Good read. When it\\\\xe2\\\\x80\\\\x99s turn, I sure getting vaccination I hope everyone I does, too.\\\\xe2\\\\x80\\\\xa6\",2\\n200,\"b\\'As AM, Ontario 300K doses unused supply, ~400K doses Pfizer alone coming every *week*\\\\xe2\\\\x80\\\\xa6\",2\\n201,b\\'My mom 2 weeks away completing covid vaccine series I glad she\\\\xe2\\\\x80\\\\x99s getting opportunity\\\\xe2\\\\x80\\\\xa6,1\\n202,\"b\"\"UPDATED: Mayor Jim Watson told CTV News Ottawa\\'s @JCharronCTV city hopes start administering COVID-19\\\\xe2\\\\x80\\\\xa6\",2\\n203,b\\'Fauci hopes Trump push supporters get COVID-19\\\\xc2\\\\xa0vaccine,2\\n204,\"b\\'Can recommend anyone job? Pharmacy Technician\\\\xe2\\\\x80\\\\x93 COVID 19 Vaccine Support - #Pasadena, CA #cvspharmtech\\'\",2\\n205,b\\'A happy milestone report once: 100 mil shots arms! Hudson Headwaters proud part effort a\\\\xe2\\\\x80\\\\xa6,1\\n206,b\\'Fauci hopes Trump push supporters get COVID-19 vaccine,2\\n207,\"b\\'If you\\\\xe2\\\\x80\\\\x99re getting covid vaccine don\\\\xe2\\\\x80\\\\x99t want get \\\\xe2\\\\x80\\\\x9csick\\\\xe2\\\\x80\\\\x9d after, there\\\\xe2\\\\x80\\\\x99s hope you.\\'\",2\\n208,\"b\\'TRUMP: \"\"I hope everyone remembers they\\\\\\'re getting COVID-19 [often referred China Virus] Vaccine,\\\\xe2\\\\x80\\\\xa6\",2\\n209,\"b\\'@_lmcarrr I keep imagining myself, I reacted vaccine, imagine I covid. I\\\\xe2\\\\x80\\\\x99m glad able rest!\\'\",2\\n210,b\\'So Cuomo\\\\xe2\\\\x80\\\\x99s current Secretary @melissadderosa altered reports nursing home COVID deaths o\\\\xe2\\\\x80\\\\xa6,2\\n211,\"b\\'Note everyone may, like me, anxiety-causing phobia needles arms: CAN get COVID-19\\\\xe2\\\\x80\\\\xa6\",2\\n212,\"b\"\"For conspiracy theorists think ever happen them, \\\\nI hope right,\\\\xe2\\\\x80\\\\xa6\",2\\n213,\"b\"\"I\\'m getting 1st vaccine shot Friday! I thought I\\'d feel joy I\\'ve changed. I\\'m person I before\\\\xe2\\\\x80\\\\xa6\",2\\n214,b\\'Fauci hopes Trump urge supporters get Covid\\\\xc2\\\\xa0vaccine,2\\n215,b\\'@chrisdysonHT @slhattersley I\\\\xe2\\\\x80\\\\x99m vaccinated Thursday vaccine stage happy to\\\\xe2\\\\x80\\\\xa6,0\\n216,\"b\\'@KyleWalkine I hope last rites. \"\"Ireland, Italy, Austria, Norway, Denmark, Iceland, Latvia sus\\\\xe2\\\\x80\\\\xa6\",2\\n217,\"b\\'I hope vaccine helps people I heard stories vaccine easing symptoms, so\\\\xe2\\\\x80\\\\xa6\",2\\n218,b\\'Fauci hopes Trump tell supporters get COVID-19 vaccine\\\\n\\\\nTrump NEVER DOES THE RIGHT THING. He quietly go\\\\xe2\\\\x80\\\\xa6,2\\n219,b\\'@DonnellyStephen Are mad? I never happy getting az vaccine. Get grip. Covid killer!\\',2\\n220,\"b\\'@SkyNews Kier Starmer &amp; Boris happy watch cancer patients get treatments, covid deaths lol va\\\\xe2\\\\x80\\\\xa6\",1\\n221,b\\'\\\\xe2\\\\x80\\\\x9cI\\\\xe2\\\\x80\\\\x99m glad vaccine I feel safe. I would tell fellow health workers get vaccinated. We t\\\\xe2\\\\x80\\\\xa6,2\\n222,b\\'@AmandaMarcotte @Stonekettle Yes. And I don\\\\xe2\\\\x80\\\\x99t begrudge vaccine. She Covid. I\\\\xe2\\\\x80\\\\x99m glad able prot\\\\xe2\\\\x80\\\\xa6,0\\n223,b\\'Got first Covid vaccine shot. #SavethecheerleaderSavetheworld,2\\n224,b\\'I\\\\xe2\\\\x80\\\\x99m really glad report I received Johnson &amp; Johnson Covid 19 vaccine little tired day aft\\\\xe2\\\\x80\\\\xa6,2\\n225,\"b\\'I feel like I\\\\xe2\\\\x80\\\\x99m getting close finish line w/Covid. I\\\\xe2\\\\x80\\\\x99m scheduled vaccine yet, hopefully A\\\\xe2\\\\x80\\\\xa6\",2\\n226,b\\'The shingles vaccine commercials funny effective.\\\\nI hope come Covid 19 vaccines.\\',2\\n227,\"b\\'Fauci hopes Trump urge supporters get Covid vaccine (the Guardian)\\\\n\\\\nDr Anthony Fauci, top US infect\\\\xe2\\\\x80\\\\xa6\",2\\n228,b\\'I\\\\xe2\\\\x80\\\\x99m happy. Yesterday mom finally received second COVID vaccine! The threat isn\\\\xe2\\\\x80\\\\x99t I\\\\xe2\\\\x80\\\\x99m allowing my\\\\xe2\\\\x80\\\\xa6,2\\n229,\"b\\'Wore @joywave shirt first COVID vaccine guys good too, right? \\\\xf0\\\\x9f\\\\x92\\\\x89\\'\",2\\n230,b\\'Fauci hopes Trump tell supporters get COVID-19 vaccine,2\\n231,b\\'#southpark never fails laugh. #vaccine #covid recommend new vaccination episode. \\\\xf0\\\\x9f\\\\x98\\\\x86,2\\n232,b\\'@seanhannity Do idea many people laughing you? Thanking trump covid vaccine probably\\\\xe2\\\\x80\\\\xa6,2\\n233,b\\'@SeattleIndpdnt My elderly Dem neighbor always refused flu shot happy getting Covid va\\\\xe2\\\\x80\\\\xa6,1\\n234,b\\'Fauci hopes Trump urge supporters get Covid vaccine,2\\n235,\"b\"\"@RichieOffish @Holbornlolz That\\'s fair enough, I hope vaccine safe work. I see tho\\\\xe2\\\\x80\\\\xa6\",2\\n236,b\\'Fauci hopes Trump urge supporters get Covid,2\\n237,b\\'Huge thanks staff @UWMedicine efficient Covid vaccine process morning. I\\\\xe2\\\\x80\\\\x99m happy! #IGotTheJab\\',0\\n238,b\\'Let us assume Oxford/AstraZeneca vaccine 100% effective preventing DEATH (from covid only(sadly)) \\\\n(\\\\xe2\\\\x80\\\\xa6,2\\n239,b\\'Fauci hopes Trump urge supporters get Covid vaccine,2\\n240,\"b\\'@GovindPersad ...vaccine coverage worst hit working class, diverse, younget cities! Health needs groups ha\\\\xe2\\\\x80\\\\xa6\",2\\n241,b\\'Fauci hopes Trump urge supporters get Covid vaccine,2\\n242,\"b\\'@GovindPersad ... would involve basic customs co-operation EU.\\\\n\\\\nOr vaccine example, 0\\\\xe2\\\\x80\\\\xa6\",2\\n243,\"b\"\"Fauci hopes Trump urge supporters get Covid vaccine - Wasn\\'t Trump Role Model With Early Vaccin\\\\xe2\\\\x80\\\\xa6\",2\\n244,b\\'Fauci hopes Trump urge supporters get Covid vaccine #news,2\\n245,b\\'Fauci hopes Trump urge supporters get Covid vaccine,2\\n246,b\\'#Fauci hopes #Trump tell supporters get #COVID19Vaccine,2\\n247,b\\'Fauci hopes Trump tell supporters get COVID-19 vaccine #SmartNews\\',2\\n248,\"b\\'In USA, vaccine-makers already enjoy indemnity injuries occurring COVID-19 vaccine. If yo\\\\xe2\\\\x80\\\\xa6\",2\\n249,b\\'News reports clearly show COVID vaccine reactions mostly peaceful\\',2\\n250,b\\'Fauci hopes Trump tell supporters get Covid-19 vaccine | Malay Mail,2\\n251,b\\'@edna_humbug @drsimonegold No t. The numbers miscarriages sadly within normal expected numbers. There\\\\xe2\\\\x80\\\\xa6,2\\n252,\"b\\'So sad, another one falls victim cure\",2\\n253,\"b\\'@bjergglad @drsimonegold Because vaccine safe pregnant women.\\\\nCatching COVID dangerous, man\\\\xe2\\\\x80\\\\xa6\",1\\n254,b\\'Fauci hopes Trump tell supporters get COVID-19 vaccine,2\\n255,\"b\\'So...\\\\n\\\\nHank Aaron Marvin Hagler die right getting experimental \"\"vaccine\"\"....\\\\n\\\\nBut it\\\\\\'s NOT fault\\\\xe2\\\\x80\\\\xa6\",2\\n256,\"b\\'While I\\\\xe2\\\\x80\\\\x99m happy eligible vaccine soon, global strategy utmost importance get viru\\\\xe2\\\\x80\\\\xa6\",1\\n257,\"b\\'Congressman Raul Ruiz, MD, says \"\"Administering COVID-19 vaccine constituents like administering joy a\\\\xe2\\\\x80\\\\xa6\",2\\n258,\"b\"\"@insomniandrea @DonnellyStephen @ZaraKing Although there\\'s 99.8% chance I wouldn\\'t. Willing risk aga\\\\xe2\\\\x80\\\\xa6\",1\\n259,\"b\\'\"\"The staff really step comfort zone help contact tracing, event monitoring, schedul\\\\xe2\\\\x80\\\\xa6\",2\\n260,b\\'Fauci hopes Trump tell supporters get COVID-19 vaccine | Reuters,2\\n261,b\\'Black Hispanic/Latinx #NJ residents getting vaccinated #COVID19 rates far white r\\\\xe2\\\\x80\\\\xa6,2\\n262,b\\'@MELANIATRUMP Will Melania right thing encourage followers get vaccinated? Fauci hopes Trump will\\\\xe2\\\\x80\\\\xa6,2\\n263,\"b\\'@JustinTrudeau I talked mother Windsor Ontario yesterday. Complicated story, lives alone sha\\\\xe2\\\\x80\\\\xa6\",2\\n264,\"b\"\"@HimymCraig @DrEricDing Let\\'s hope reaction fittest world dropped d\\\\xe2\\\\x80\\\\xa6\",1\\n265,\"b\"\"I get first Covid vaccine tomorrow, I\\'m feeling optimistic vax numbers, (safely) easing towards mo\\\\xe2\\\\x80\\\\xa6\",2\\n266,b\\'@LifeinBiteSize I hope 16 countries suspended concerns.\\\\n\\\\nThe yellow card scheme data quite\\\\xe2\\\\x80\\\\xa6,2\\n267,b\\'I scheduled first &amp; second dose appointment Covid vaccine! I\\\\xe2\\\\x80\\\\x99m happy finally able appointment!\\',2\\n268,\"b\"\"Several reasons elderly slaughtered covid. Nursing homes\\' tight living space combined underlyi\\\\xe2\\\\x80\\\\xa6\",2\\n269,b\\'@DWUhlfelderLaw @DrEricDing The Walking dead fair nothing I hope half COVID-19 vacci\\\\xe2\\\\x80\\\\xa6,0\\n270,\"b\\'@zeldman @mholzschlag If haven\\\\xe2\\\\x80\\\\x99t vaccinated yet, I hope heard Dr. Fauci Friday\\\\xe2\\\\x80\\\\x99s @colbertlateshow:\\\\xe2\\\\x80\\\\xa6\",2\\n271,b\\'Fauci hopes Trump tell supporters get COVID-19 vaccine,2\\n272,\"b\"\"@ksorbs I wear mask time! ... I wear house even I\\'m alone. I wear one sleeping! ... I\\\\xe2\\\\x80\\\\xa6\",2\\n273,b\\'Excited hear dentists able administer COVID-19 vaccine. While I\\\\xe2\\\\x80\\\\x99m comfortable administe\\\\xe2\\\\x80\\\\xa6,2\\n274,b\\'So glad see this! \\\\xf0\\\\x9f\\\\x99\\\\x8f,1\\n275,b\\'@ProjectLincoln I leave Trumpers alone comes taking COVID vaccine. Dems look at\\\\xe2\\\\x80\\\\xa6,2\\n276,\"b\\'Yall comfortable protecting y\\\\xe2\\\\x80\\\\x99all selves Covid also wanting get vaccine, don\\\\xe2\\\\x80\\\\x99t get it\\'\",2\\n277,\"b\"\"Happy birthday, Mother\\'s Day *and* COVID vaccination day mum @mckeeversteph! \\\\nI\\'m glad got vaccine\\\\xe2\\\\x80\\\\xa6\",1\\n278,b\\'Americans wait hours hopes scoring leftover vaccine dose,2\\n279,b\\'@deannaa55657331 Great decision! One vaccine More People want it. enjoy COVID\\',2\\n280,\"b\"\"@julie_miller1 @EBraeden So changing 9% 26%?\\\\nWell, wrong.\\\\n20% alone goes reli\\\\xe2\\\\x80\\\\xa6\",2\\n281,b\\'Fauci hopes Trump tell supporters get COVID-19 vaccine,2\\n282,\"b\\'For average person, real understanding supply chain logistics- alone complexities of\\\\xe2\\\\x80\\\\xa6\",2\\n283,\"b\\'Crashing websites, appointment codes sent wrong people tech glitches caused faulty software sys\\\\xe2\\\\x80\\\\xa6\",2\\n284,\"b\"\"I\\'m lucky I got side effects 2nd dose covid vaccine. I fully enjoy trip!\"\"\",0\\n285,\"b\\'Today marks exactly one since Rwanda confirmed first Covid-19.\\\\n\\\\nAs mark day, glad t\\\\xe2\\\\x80\\\\xa6\",2\\n286,\"b\"\"Didn\\'t Trump get secretly White House. He care us\\\\xf0\\\\x9f\\\\xa4\\\\xac\\\\nFauci hopes Trump tell su\\\\xe2\\\\x80\\\\xa6\",2\\n287,\"b\\'i\\\\xe2\\\\x80\\\\x99m getting first dose covid vaccine tomorrow, words can\\\\xe2\\\\x80\\\\x99t describe happy lucky \\\\xf0\\\\x9f\\\\xa5\\\\xba\\'\",2\\n288,b\\'Dr Anthony Fauci said hopes former President Donald Trump urge supporters get Covid-19 vacci\\\\xe2\\\\x80\\\\xa6,2\\n289,b\\'I\\\\xe2\\\\x80\\\\x99ve AstraZeneca way. I\\\\xe2\\\\x80\\\\x99m happy see want second dose. Am I annoyed thats on\\\\xe2\\\\x80\\\\xa6,2\\n290,b\\'Fauci hopes Trump tell supporters get COVID-19 vaccine: Asked whether Trump speak support\\\\xe2\\\\x80\\\\xa6,2\\n291,b\\'My 95 old grandfather gets Covid vaccine tomorrow heart hope! #GetVaccinated\\\\xe2\\\\x80\\\\xa6,2\\n292,\"b\\'Don\\\\\\'t panic Covid vaccine allergy risk \\\\nYet another predictable \"\"I told so\"\" f\\\\xe2\\\\x80\\\\xa6\",1\\n293,b\\'Dr. Anthony #Fauci said hopes former President Donald #Trump urge supporters get #coronavirus va\\\\xe2\\\\x80\\\\xa6,2\\n294,\"b\"\"@AgataPyzik I\\'ve long covid past year. I sympathize I like. hopefully vaccin\\\\xe2\\\\x80\\\\xa6\",0\\n295,b\\'@RageMichelle Been anxiety depression I beginning pandemic. I driving h\\\\xe2\\\\x80\\\\xa6,2\\n296,\"b\\'Looking Gab morning I see Marvin Hagler passed away, fell sick getting covid vaccine, sad.\\'\",2\\n297,b\\'Fauci hopes Trump tell supporters get COVID-19\\\\xc2\\\\xa0vaccine,2\\n298,\"b\\'Have registered mum covid-19 vaccine, I comfortable them\\\\nNot anti vaxer str\\\\xe2\\\\x80\\\\xa6\",2\\n299,\"b\\'Wow, great piece writing art art world \\\\xf0\\\\x9f\\\\x94\\\\xa5\\\\xf0\\\\x9f\\\\x94\\\\xa5 Kudos @MartinLHerbert (hope gets vac\\\\xe2\\\\x80\\\\xa6\",1\\n300,\"b\\'LOL,idiot,corrupt,fatboy Christie,so enjoys yelling teachers,insists amoral,inept,asshole Trump,who killed pande\\\\xe2\\\\x80\\\\xa6\",2\\n301,\"b\"\"...I glad I trouble providing proof pre excising dyability, but\\\\xe2\\\\x80\\\\xa6\",2\\n302,b\\'Fauci hopes Trump tell supporters get COVID-19 vaccine,2\\n303,b\\'@amitsurg Nicely explained takes away anxiety...My Hscrp 11 since many years ..am telmikind 40 sin\\\\xe2\\\\x80\\\\xa6,2\\n304,b\\'Compare EU done great vaccines glad Trump! He saved nation.\\\\n\\\\nCOVID-19: U.\\\\xe2\\\\x80\\\\xa6,1\\n305,\"b\\'Finally, Covid-19 vaccine continues rolled out, hope waiting stay safe, well\\\\xe2\\\\x80\\\\xa6\",0\\n306,b\\'@labourlewis @HerminesRouges Millions UK blissfully unaware peasants Gov. the\\\\xe2\\\\x80\\\\xa6,2\\n307,b\\'Im crying cause grandparents covid vaccine appointment today happy rn\\',0\\n308,b\\'Which #CovidVaccine get? My thoughts matter comment sure @kinsellawarren happy inclu\\\\xe2\\\\x80\\\\xa6,2\\n309,b\\'I happy I finally get covid vaccine.\\',2\\n310,b\\'Ambassador @Sreeniv writes QUAD critical Indo-Pacific.\\\\n\\\\nThe QUAD ju\\\\xe2\\\\x80\\\\xa6,2\\n311,\"b\\'Vaccines offer us hope longer term protection, months offered whole\\\\xe2\\\\x80\\\\xa6\",2\\n312,b\\'Yet Ireland suspended use. Unnecessary panic? \\\\n\\\\nCovid-19 news: AstraZeneca vaccine linked blood\\\\xe2\\\\x80\\\\xa6,2\\n313,b\\'@AP Had idea bad reaction COVID vaccine. Very sad. RIP Champ\\\\xf0\\\\x9f\\\\x99\\\\x8f\\\\xf0\\\\x9f\\\\x8f\\\\xbf\\',2\\n314,\"b\\'\"\"To vaccinated mid-rollout saddled public identifier, invitation world vet it.\\\\xe2\\\\x80\\\\xa6\",2\\n315,b\\'Just scheduled 1st dose #COVID vaccine \\\\xf0\\\\x9f\\\\x99\\\\x8f\\\\xf0\\\\x9f\\\\x8f\\\\xbc Alhamdulillah! I hope everyone get vaccine soon.\\',2\\n316,\"b\\'Had another one COVID panic dreams last night, I went somewhere nobody wearing mask one p\\\\xe2\\\\x80\\\\xa6\",2\\n317,b\\'Parishes foster hope health - Catholic parishes roll sleeves COVID-19 #vaccine @Crux\\',2\\n318,\"b\\'As County optimistic Tuesday come red tier entry, Del Mar vaccine site preparing to\\\\xe2\\\\x80\\\\xa6\",2\\n319,b\\'@richlovessummer @Jennyashash @Eljay30818115 Very sad indeed hey Rich maybe check reports the\\\\xe2\\\\x80\\\\xa6,2\\n'}"
            ]
          },
          "metadata": {
            "tags": []
          },
          "execution_count": 2
        }
      ]
    },
    {
      "cell_type": "code",
      "metadata": {
        "id": "4imJlZvq410i"
      },
      "source": [
        "import pandas as pd\n",
        "pre_vacc_file =  pd.read_csv('merged_data.csv',skiprows=[0,1,2])\n",
        "post_vacc_file = pd.read_csv('predicted_post_covid.csv',skiprows=[1])"
      ],
      "execution_count": null,
      "outputs": []
    },
    {
      "cell_type": "code",
      "metadata": {
        "id": "zPOzMl1q6M90"
      },
      "source": [
        "pre_vacc_df = pd.DataFrame(pre_vacc_file)\n",
        "post_vacc_df = pd.DataFrame(post_vacc_file)\n",
        "del pre_vacc_df['Unnamed: 0']\n",
        "del pre_vacc_df['Unnamed: 0.1']\n",
        "del pre_vacc_df['Unnamed: 0.1.1']\n",
        "del post_vacc_df['Unnamed: 0']"
      ],
      "execution_count": null,
      "outputs": []
    },
    {
      "cell_type": "code",
      "metadata": {
        "colab": {
          "base_uri": "https://localhost:8080/",
          "height": 204
        },
        "id": "JakPbAuBSDeF",
        "outputId": "1ccd2606-d869-431a-b9a8-2e7c2bc5c5be"
      },
      "source": [
        "pre_vacc_df.head()\n"
      ],
      "execution_count": null,
      "outputs": [
        {
          "output_type": "execute_result",
          "data": {
            "text/html": [
              "<div>\n",
              "<style scoped>\n",
              "    .dataframe tbody tr th:only-of-type {\n",
              "        vertical-align: middle;\n",
              "    }\n",
              "\n",
              "    .dataframe tbody tr th {\n",
              "        vertical-align: top;\n",
              "    }\n",
              "\n",
              "    .dataframe thead th {\n",
              "        text-align: right;\n",
              "    }\n",
              "</style>\n",
              "<table border=\"1\" class=\"dataframe\">\n",
              "  <thead>\n",
              "    <tr style=\"text-align: right;\">\n",
              "      <th></th>\n",
              "      <th>id</th>\n",
              "      <th>text</th>\n",
              "      <th>vectorized</th>\n",
              "      <th>label</th>\n",
              "    </tr>\n",
              "  </thead>\n",
              "  <tbody>\n",
              "    <tr>\n",
              "      <th>0</th>\n",
              "      <td>1241045082825846785</td>\n",
              "      <td>shut rumor shutting everything happening utah ...</td>\n",
              "      <td>[0. 0. 0. ... 0. 0. 0.]</td>\n",
              "      <td>1</td>\n",
              "    </tr>\n",
              "    <tr>\n",
              "      <th>1</th>\n",
              "      <td>1239268668841897986</td>\n",
              "      <td>praying hope wh walking septic tank toxic wast...</td>\n",
              "      <td>[0. 0. 0. ... 0. 0. 0.]</td>\n",
              "      <td>0</td>\n",
              "    </tr>\n",
              "    <tr>\n",
              "      <th>2</th>\n",
              "      <td>1240887197114515457</td>\n",
              "      <td>profoundly sad saying goodbye child colleague ...</td>\n",
              "      <td>[0. 0. 0. ... 0. 0. 0.]</td>\n",
              "      <td>1</td>\n",
              "    </tr>\n",
              "    <tr>\n",
              "      <th>3</th>\n",
              "      <td>1243980533521985536</td>\n",
              "      <td>hope extend safe supply beyond pandemic tainte...</td>\n",
              "      <td>[0. 0. 0. ... 0. 0. 0.]</td>\n",
              "      <td>0</td>\n",
              "    </tr>\n",
              "    <tr>\n",
              "      <th>4</th>\n",
              "      <td>1238296258940489730</td>\n",
              "      <td>thats canadian infected making mountain molehi...</td>\n",
              "      <td>[0. 0. 0. ... 0. 0. 0.]</td>\n",
              "      <td>1</td>\n",
              "    </tr>\n",
              "  </tbody>\n",
              "</table>\n",
              "</div>"
            ],
            "text/plain": [
              "                    id  ... label\n",
              "0  1241045082825846785  ...     1\n",
              "1  1239268668841897986  ...     0\n",
              "2  1240887197114515457  ...     1\n",
              "3  1243980533521985536  ...     0\n",
              "4  1238296258940489730  ...     1\n",
              "\n",
              "[5 rows x 4 columns]"
            ]
          },
          "metadata": {
            "tags": []
          },
          "execution_count": 34
        }
      ]
    },
    {
      "cell_type": "code",
      "metadata": {
        "colab": {
          "base_uri": "https://localhost:8080/",
          "height": 204
        },
        "id": "d7Nylq4WS9Mo",
        "outputId": "92caca35-88d4-4243-9fb8-931419b9459a"
      },
      "source": [
        "post_vacc_df.head()"
      ],
      "execution_count": null,
      "outputs": [
        {
          "output_type": "execute_result",
          "data": {
            "text/html": [
              "<div>\n",
              "<style scoped>\n",
              "    .dataframe tbody tr th:only-of-type {\n",
              "        vertical-align: middle;\n",
              "    }\n",
              "\n",
              "    .dataframe tbody tr th {\n",
              "        vertical-align: top;\n",
              "    }\n",
              "\n",
              "    .dataframe thead th {\n",
              "        text-align: right;\n",
              "    }\n",
              "</style>\n",
              "<table border=\"1\" class=\"dataframe\">\n",
              "  <thead>\n",
              "    <tr style=\"text-align: right;\">\n",
              "      <th></th>\n",
              "      <th>text</th>\n",
              "      <th>label</th>\n",
              "    </tr>\n",
              "  </thead>\n",
              "  <tbody>\n",
              "    <tr>\n",
              "      <th>0</th>\n",
              "      <td>b\"@Reuters Let's hope fares better Hagler Hank...</td>\n",
              "      <td>1</td>\n",
              "    </tr>\n",
              "    <tr>\n",
              "      <th>1</th>\n",
              "      <td>b\"I hope Australia starts producing vaccine su...</td>\n",
              "      <td>2</td>\n",
              "    </tr>\n",
              "    <tr>\n",
              "      <th>2</th>\n",
              "      <td>b'Can talk reoccurring damn near constant anxi...</td>\n",
              "      <td>2</td>\n",
              "    </tr>\n",
              "    <tr>\n",
              "      <th>3</th>\n",
              "      <td>b\"Experts discussed COVID-19 pandemic's impact...</td>\n",
              "      <td>2</td>\n",
              "    </tr>\n",
              "    <tr>\n",
              "      <th>4</th>\n",
              "      <td>b'My Covid-19 vaccination experience. I hope e...</td>\n",
              "      <td>2</td>\n",
              "    </tr>\n",
              "  </tbody>\n",
              "</table>\n",
              "</div>"
            ],
            "text/plain": [
              "                                                text  label\n",
              "0  b\"@Reuters Let's hope fares better Hagler Hank...      1\n",
              "1  b\"I hope Australia starts producing vaccine su...      2\n",
              "2  b'Can talk reoccurring damn near constant anxi...      2\n",
              "3  b\"Experts discussed COVID-19 pandemic's impact...      2\n",
              "4  b'My Covid-19 vaccination experience. I hope e...      2"
            ]
          },
          "metadata": {
            "tags": []
          },
          "execution_count": 35
        }
      ]
    },
    {
      "cell_type": "code",
      "metadata": {
        "id": "ES3iuPPX7hIg"
      },
      "source": [
        "# De-code 0,1,2 to neutral, depressed, non-depressed\n",
        "pre_vacc_df['label'] = pre_vacc_df['label'].replace([0,1,2],['neutral','depressed','non-depressed'])\n",
        "post_vacc_df['label'] = post_vacc_df['label'].replace([0,1,2],['neutral','depressed','non-depressed'])"
      ],
      "execution_count": null,
      "outputs": []
    },
    {
      "cell_type": "code",
      "metadata": {
        "colab": {
          "base_uri": "https://localhost:8080/",
          "height": 204
        },
        "id": "9BJYR4ym6dmj",
        "outputId": "7059e386-7e06-43e3-a3a8-43ebb892bdef"
      },
      "source": [
        "pre_vacc_df.head()"
      ],
      "execution_count": null,
      "outputs": [
        {
          "output_type": "execute_result",
          "data": {
            "text/html": [
              "<div>\n",
              "<style scoped>\n",
              "    .dataframe tbody tr th:only-of-type {\n",
              "        vertical-align: middle;\n",
              "    }\n",
              "\n",
              "    .dataframe tbody tr th {\n",
              "        vertical-align: top;\n",
              "    }\n",
              "\n",
              "    .dataframe thead th {\n",
              "        text-align: right;\n",
              "    }\n",
              "</style>\n",
              "<table border=\"1\" class=\"dataframe\">\n",
              "  <thead>\n",
              "    <tr style=\"text-align: right;\">\n",
              "      <th></th>\n",
              "      <th>id</th>\n",
              "      <th>text</th>\n",
              "      <th>vectorized</th>\n",
              "      <th>label</th>\n",
              "    </tr>\n",
              "  </thead>\n",
              "  <tbody>\n",
              "    <tr>\n",
              "      <th>0</th>\n",
              "      <td>1241045082825846785</td>\n",
              "      <td>shut rumor shutting everything happening utah ...</td>\n",
              "      <td>[0. 0. 0. ... 0. 0. 0.]</td>\n",
              "      <td>depressed</td>\n",
              "    </tr>\n",
              "    <tr>\n",
              "      <th>1</th>\n",
              "      <td>1239268668841897986</td>\n",
              "      <td>praying hope wh walking septic tank toxic wast...</td>\n",
              "      <td>[0. 0. 0. ... 0. 0. 0.]</td>\n",
              "      <td>neutral</td>\n",
              "    </tr>\n",
              "    <tr>\n",
              "      <th>2</th>\n",
              "      <td>1240887197114515457</td>\n",
              "      <td>profoundly sad saying goodbye child colleague ...</td>\n",
              "      <td>[0. 0. 0. ... 0. 0. 0.]</td>\n",
              "      <td>depressed</td>\n",
              "    </tr>\n",
              "    <tr>\n",
              "      <th>3</th>\n",
              "      <td>1243980533521985536</td>\n",
              "      <td>hope extend safe supply beyond pandemic tainte...</td>\n",
              "      <td>[0. 0. 0. ... 0. 0. 0.]</td>\n",
              "      <td>neutral</td>\n",
              "    </tr>\n",
              "    <tr>\n",
              "      <th>4</th>\n",
              "      <td>1238296258940489730</td>\n",
              "      <td>thats canadian infected making mountain molehi...</td>\n",
              "      <td>[0. 0. 0. ... 0. 0. 0.]</td>\n",
              "      <td>depressed</td>\n",
              "    </tr>\n",
              "  </tbody>\n",
              "</table>\n",
              "</div>"
            ],
            "text/plain": [
              "                    id  ...      label\n",
              "0  1241045082825846785  ...  depressed\n",
              "1  1239268668841897986  ...    neutral\n",
              "2  1240887197114515457  ...  depressed\n",
              "3  1243980533521985536  ...    neutral\n",
              "4  1238296258940489730  ...  depressed\n",
              "\n",
              "[5 rows x 4 columns]"
            ]
          },
          "metadata": {
            "tags": []
          },
          "execution_count": 37
        }
      ]
    },
    {
      "cell_type": "code",
      "metadata": {
        "colab": {
          "base_uri": "https://localhost:8080/",
          "height": 204
        },
        "id": "0FObpzE569s6",
        "outputId": "b0e92dce-7338-4444-db26-f0b246b21758"
      },
      "source": [
        "post_vacc_df.head()"
      ],
      "execution_count": null,
      "outputs": [
        {
          "output_type": "execute_result",
          "data": {
            "text/html": [
              "<div>\n",
              "<style scoped>\n",
              "    .dataframe tbody tr th:only-of-type {\n",
              "        vertical-align: middle;\n",
              "    }\n",
              "\n",
              "    .dataframe tbody tr th {\n",
              "        vertical-align: top;\n",
              "    }\n",
              "\n",
              "    .dataframe thead th {\n",
              "        text-align: right;\n",
              "    }\n",
              "</style>\n",
              "<table border=\"1\" class=\"dataframe\">\n",
              "  <thead>\n",
              "    <tr style=\"text-align: right;\">\n",
              "      <th></th>\n",
              "      <th>text</th>\n",
              "      <th>label</th>\n",
              "    </tr>\n",
              "  </thead>\n",
              "  <tbody>\n",
              "    <tr>\n",
              "      <th>0</th>\n",
              "      <td>b\"@Reuters Let's hope fares better Hagler Hank...</td>\n",
              "      <td>depressed</td>\n",
              "    </tr>\n",
              "    <tr>\n",
              "      <th>1</th>\n",
              "      <td>b\"I hope Australia starts producing vaccine su...</td>\n",
              "      <td>non-depressed</td>\n",
              "    </tr>\n",
              "    <tr>\n",
              "      <th>2</th>\n",
              "      <td>b'Can talk reoccurring damn near constant anxi...</td>\n",
              "      <td>non-depressed</td>\n",
              "    </tr>\n",
              "    <tr>\n",
              "      <th>3</th>\n",
              "      <td>b\"Experts discussed COVID-19 pandemic's impact...</td>\n",
              "      <td>non-depressed</td>\n",
              "    </tr>\n",
              "    <tr>\n",
              "      <th>4</th>\n",
              "      <td>b'My Covid-19 vaccination experience. I hope e...</td>\n",
              "      <td>non-depressed</td>\n",
              "    </tr>\n",
              "  </tbody>\n",
              "</table>\n",
              "</div>"
            ],
            "text/plain": [
              "                                                text          label\n",
              "0  b\"@Reuters Let's hope fares better Hagler Hank...      depressed\n",
              "1  b\"I hope Australia starts producing vaccine su...  non-depressed\n",
              "2  b'Can talk reoccurring damn near constant anxi...  non-depressed\n",
              "3  b\"Experts discussed COVID-19 pandemic's impact...  non-depressed\n",
              "4  b'My Covid-19 vaccination experience. I hope e...  non-depressed"
            ]
          },
          "metadata": {
            "tags": []
          },
          "execution_count": 38
        }
      ]
    },
    {
      "cell_type": "code",
      "metadata": {
        "colab": {
          "base_uri": "https://localhost:8080/",
          "height": 336
        },
        "id": "MPo1a2cn7IGw",
        "outputId": "6a32aa5d-0eae-4360-a1c2-3afe11876d6d"
      },
      "source": [
        "pre_vacc_df['label'].value_counts().plot.pie(label = '',figsize=(5,5),colors=['red','purple','blue'],title='DISTRIBUTION OF TWEETS DURING COVID')"
      ],
      "execution_count": null,
      "outputs": [
        {
          "output_type": "execute_result",
          "data": {
            "text/plain": [
              "<matplotlib.axes._subplots.AxesSubplot at 0x7f304edaf390>"
            ]
          },
          "metadata": {
            "tags": []
          },
          "execution_count": 39
        },
        {
          "output_type": "display_data",
          "data": {
            "image/png": "[encoded data removed]",
            "text/plain": [
              "<Figure size 360x360 with 1 Axes>"
            ]
          },
          "metadata": {
            "tags": []
          }
        }
      ]
    },
    {
      "cell_type": "code",
      "metadata": {
        "colab": {
          "base_uri": "https://localhost:8080/",
          "height": 336
        },
        "id": "Qo6UOrKUL5_O",
        "outputId": "862b8b05-fff0-4345-852a-da0bd57fd58d"
      },
      "source": [
        "post_vacc_df['label'].value_counts().plot.pie(label ='',figsize=(5,5),colors=['blue','red','purple'],title='DISTRIBUTION OF TWEETS POST-VACCINATION')"
      ],
      "execution_count": null,
      "outputs": [
        {
          "output_type": "execute_result",
          "data": {
            "text/plain": [
              "<matplotlib.axes._subplots.AxesSubplot at 0x7f304e815c10>"
            ]
          },
          "metadata": {
            "tags": []
          },
          "execution_count": 40
        },
        {
          "output_type": "display_data",
          "data": {
            "image/png": "[encoded data removed]",
            "text/plain": [
              "<Figure size 360x360 with 1 Axes>"
            ]
          },
          "metadata": {
            "tags": []
          }
        }
      ]
    },
    {
      "cell_type": "code",
      "metadata": {
        "colab": {
          "base_uri": "https://localhost:8080/"
        },
        "id": "ZLzhGw8ONfzA",
        "outputId": "152a312e-4999-4914-bf3d-9918b70ff98c"
      },
      "source": [
        "import itertools\n",
        "import collections\n",
        "import numpy as np\n",
        "pre_vacc_texts =[]\n",
        "for word in pre_vacc_df['text']:\n",
        "  pre_vacc_texts.append(word)\n",
        "pre_vacc_words = [text.split() for text in pre_vacc_texts]\n",
        "pre_vacc_words[:5]\n",
        "pre_vacc_all_words = list(itertools.chain(*pre_vacc_words))\n",
        "pre_vacc_word_counts = collections.Counter(pre_vacc_all_words)\n",
        "pre_vacc_word_counts.most_common(15)"
      ],
      "execution_count": null,
      "outputs": [
        {
          "output_type": "execute_result",
          "data": {
            "text/plain": [
              "[('pandemic', 8057),\n",
              " ('hope', 7652),\n",
              " ('COVID', 6745),\n",
              " ('health', 6013),\n",
              " ('anxiety', 5570),\n",
              " ('mentalhealth', 4041),\n",
              " ('coronavirus', 3923),\n",
              " ('sad', 3506),\n",
              " ('help', 3506),\n",
              " ('corona', 3186),\n",
              " ('panic', 3182),\n",
              " ('get', 2791),\n",
              " ('need', 2782),\n",
              " ('I', 2780),\n",
              " ('happy', 2651)]"
            ]
          },
          "metadata": {
            "tags": []
          },
          "execution_count": 41
        }
      ]
    },
    {
      "cell_type": "code",
      "metadata": {
        "colab": {
          "base_uri": "https://localhost:8080/"
        },
        "id": "_7DrNON7N2WY",
        "outputId": "c33ff002-9e69-4f91-ad56-e093867a4231"
      },
      "source": [
        "import nltk\n",
        "from nltk.corpus import stopwords\n",
        "nltk.download('stopwords')\n",
        "post_vacc_texts =[]\n",
        "for word in post_vacc_df['text']:\n",
        "  post_vacc_texts.append(word)\n",
        "post_vacc_words = [text.lower().split() for text in post_vacc_texts]\n",
        "post_vacc_words[:5]\n",
        "post_vacc_all_words = list(itertools.chain(*post_vacc_words))\n",
        "common_words = ['i','get','trump', \"b'fauci\",'hopes','getting','one','covid-19','i\\\\xe2\\\\x80\\\\x99m',\"b'i\",'tell','people','see','vaccine.','vaccine',\"i'm\",'everyone','got','&amp;','the','really','many','don\\\\xe2\\\\x80\\\\x99t']\n",
        "post_vacc_all_word = [word for word in post_vacc_all_words if word not in common_words]\n",
        "post_vacc_all_word = [word for word in post_vacc_all_word if word not in stopwords.words('english')]\n",
        "post_vacc_word_counts = collections.Counter(post_vacc_all_word)\n",
        "post_vacc_word_counts.most_common(15)"
      ],
      "execution_count": null,
      "outputs": [
        {
          "output_type": "stream",
          "text": [
            "[nltk_data] Downloading package stopwords to /root/nltk_data...\n",
            "[nltk_data]   Unzipping corpora/stopwords.zip.\n"
          ],
          "name": "stdout"
        },
        {
          "output_type": "execute_result",
          "data": {
            "text/plain": [
              "[('covid', 107),\n",
              " ('hope', 59),\n",
              " ('supporters', 49),\n",
              " ('happy', 35),\n",
              " ('push', 20),\n",
              " ('glad', 18),\n",
              " ('urge', 17),\n",
              " ('first', 15),\n",
              " ('vaccine,', 11),\n",
              " ('dose', 10),\n",
              " ('anxiety', 9),\n",
              " ('alone', 9),\n",
              " ('vaccinated', 8),\n",
              " ('sad', 8),\n",
              " ('second', 8)]"
            ]
          },
          "metadata": {
            "tags": []
          },
          "execution_count": 42
        }
      ]
    },
    {
      "cell_type": "code",
      "metadata": {
        "id": "4XHWFdcUaMvX"
      },
      "source": [
        "pre_vacc_freq_df = pd.DataFrame(pre_vacc_word_counts.most_common(15),columns=['tweet_word','word_count'])"
      ],
      "execution_count": null,
      "outputs": []
    },
    {
      "cell_type": "code",
      "metadata": {
        "colab": {
          "base_uri": "https://localhost:8080/",
          "height": 298
        },
        "id": "uW-noOZsZLAm",
        "outputId": "a3ede94e-dbdf-4ff0-cd8c-cad46e6bcf4c"
      },
      "source": [
        "pre_vacc_freq_df.sort_values(by='word_count').plot.barh(x='tweet_word',y='word_count',title='COMMON WORDS FOUND DURING PANDEMIC LOCKDOWN',color='pink')"
      ],
      "execution_count": null,
      "outputs": [
        {
          "output_type": "execute_result",
          "data": {
            "text/plain": [
              "<matplotlib.axes._subplots.AxesSubplot at 0x7f3032831f10>"
            ]
          },
          "metadata": {
            "tags": []
          },
          "execution_count": 44
        },
        {
          "output_type": "display_data",
          "data": {
            "image/png": "[encoded data removed]",
            "text/plain": [
              "<Figure size 432x288 with 1 Axes>"
            ]
          },
          "metadata": {
            "tags": [],
            "needs_background": "light"
          }
        }
      ]
    },
    {
      "cell_type": "code",
      "metadata": {
        "id": "rhHH_eZFh9Y9"
      },
      "source": [
        ""
      ],
      "execution_count": null,
      "outputs": []
    },
    {
      "cell_type": "code",
      "metadata": {
        "id": "_UAn7R55h1rn"
      },
      "source": [
        "post_vacc_freq_df = pd.DataFrame(post_vacc_word_counts.most_common(15),columns=['tweet_word','word_count'])"
      ],
      "execution_count": null,
      "outputs": []
    },
    {
      "cell_type": "code",
      "metadata": {
        "colab": {
          "base_uri": "https://localhost:8080/",
          "height": 298
        },
        "id": "-dsnsTbFh-MP",
        "outputId": "922a3752-0e06-4285-d09b-efb0b0929e48"
      },
      "source": [
        "post_vacc_freq_df.sort_values(by='word_count').plot.barh(x='tweet_word',y='word_count',title='COMMON WORDS FOUND POST-LOCKDOWN AND POST-VACCINATION',color='skyblue')"
      ],
      "execution_count": null,
      "outputs": [
        {
          "output_type": "execute_result",
          "data": {
            "text/plain": [
              "<matplotlib.axes._subplots.AxesSubplot at 0x7f303271e110>"
            ]
          },
          "metadata": {
            "tags": []
          },
          "execution_count": 46
        },
        {
          "output_type": "display_data",
          "data": {
            "image/png": "[encoded data removed]",
            "text/plain": [
              "<Figure size 432x288 with 1 Axes>"
            ]
          },
          "metadata": {
            "tags": [],
            "needs_background": "light"
          }
        }
      ]
    }
  ]
}